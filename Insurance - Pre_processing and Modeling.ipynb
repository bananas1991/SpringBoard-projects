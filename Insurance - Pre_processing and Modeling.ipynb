{
 "cells": [
  {
   "cell_type": "markdown",
   "metadata": {},
   "source": [
    "# Preprocessing"
   ]
  },
  {
   "cell_type": "markdown",
   "metadata": {},
   "source": [
    "## Import all the important libraries.\n",
    "\n"
   ]
  },
  {
   "cell_type": "code",
   "execution_count": 625,
   "metadata": {},
   "outputs": [],
   "source": [
    "import numpy as np\n",
    "import matplotlib.pyplot as plt\n",
    "import pandas as pd\n",
    "import seaborn as sns\n",
    "from sklearn.preprocessing import StandardScaler\n",
    "from sklearn.linear_model import LinearRegression\n",
    "from xgboost import XGBRegressor\n",
    "from sklearn.linear_model import LogisticRegression\n",
    "from sklearn.ensemble import RandomForestClassifier\n",
    "from sklearn import preprocessing\n",
    "from sklearn.model_selection import GridSearchCV\n",
    "from sklearn.model_selection import train_test_split\n",
    "from sklearn.metrics import precision_score, accuracy_score\n",
    "from sklearn.metrics import confusion_matrix\n",
    "from sklearn.metrics import classification_report \n",
    "from sklearn.metrics import auc\n",
    "from sklearn.metrics import roc_curve\n",
    "#get model duration\n",
    "import time\n",
    "from datetime import date"
   ]
  },
  {
   "cell_type": "markdown",
   "metadata": {},
   "source": [
    "## Read the dataset"
   ]
  },
  {
   "cell_type": "code",
   "execution_count": 626,
   "metadata": {},
   "outputs": [],
   "source": [
    "insurance = pd.read_csv('/Users/markoglodovic/Downloads/customer-data.csv')"
   ]
  },
  {
   "cell_type": "code",
   "execution_count": 627,
   "metadata": {},
   "outputs": [
    {
     "data": {
      "text/html": [
       "<div>\n",
       "<style scoped>\n",
       "    .dataframe tbody tr th:only-of-type {\n",
       "        vertical-align: middle;\n",
       "    }\n",
       "\n",
       "    .dataframe tbody tr th {\n",
       "        vertical-align: top;\n",
       "    }\n",
       "\n",
       "    .dataframe thead th {\n",
       "        text-align: right;\n",
       "    }\n",
       "</style>\n",
       "<table border=\"1\" class=\"dataframe\">\n",
       "  <thead>\n",
       "    <tr style=\"text-align: right;\">\n",
       "      <th></th>\n",
       "      <th>id</th>\n",
       "      <th>age</th>\n",
       "      <th>gender</th>\n",
       "      <th>race</th>\n",
       "      <th>driving_experience</th>\n",
       "      <th>education</th>\n",
       "      <th>income</th>\n",
       "      <th>credit_score</th>\n",
       "      <th>vehicle_ownership</th>\n",
       "      <th>vehicle_year</th>\n",
       "      <th>married</th>\n",
       "      <th>children</th>\n",
       "      <th>postal_code</th>\n",
       "      <th>annual_mileage</th>\n",
       "      <th>vehicle_type</th>\n",
       "      <th>speeding_violations</th>\n",
       "      <th>DUIs</th>\n",
       "      <th>past_accidents</th>\n",
       "      <th>outcome</th>\n",
       "    </tr>\n",
       "  </thead>\n",
       "  <tbody>\n",
       "    <tr>\n",
       "      <th>0</th>\n",
       "      <td>569520</td>\n",
       "      <td>65+</td>\n",
       "      <td>female</td>\n",
       "      <td>majority</td>\n",
       "      <td>0-9y</td>\n",
       "      <td>high school</td>\n",
       "      <td>upper class</td>\n",
       "      <td>0.629027</td>\n",
       "      <td>True</td>\n",
       "      <td>after 2015</td>\n",
       "      <td>False</td>\n",
       "      <td>True</td>\n",
       "      <td>10238</td>\n",
       "      <td>12000.0</td>\n",
       "      <td>sedan</td>\n",
       "      <td>0</td>\n",
       "      <td>0</td>\n",
       "      <td>0</td>\n",
       "      <td>False</td>\n",
       "    </tr>\n",
       "    <tr>\n",
       "      <th>1</th>\n",
       "      <td>750365</td>\n",
       "      <td>16-25</td>\n",
       "      <td>male</td>\n",
       "      <td>majority</td>\n",
       "      <td>0-9y</td>\n",
       "      <td>none</td>\n",
       "      <td>poverty</td>\n",
       "      <td>0.357757</td>\n",
       "      <td>False</td>\n",
       "      <td>before 2015</td>\n",
       "      <td>False</td>\n",
       "      <td>False</td>\n",
       "      <td>10238</td>\n",
       "      <td>16000.0</td>\n",
       "      <td>sedan</td>\n",
       "      <td>0</td>\n",
       "      <td>0</td>\n",
       "      <td>0</td>\n",
       "      <td>True</td>\n",
       "    </tr>\n",
       "    <tr>\n",
       "      <th>2</th>\n",
       "      <td>199901</td>\n",
       "      <td>16-25</td>\n",
       "      <td>female</td>\n",
       "      <td>majority</td>\n",
       "      <td>0-9y</td>\n",
       "      <td>high school</td>\n",
       "      <td>working class</td>\n",
       "      <td>0.493146</td>\n",
       "      <td>True</td>\n",
       "      <td>before 2015</td>\n",
       "      <td>False</td>\n",
       "      <td>False</td>\n",
       "      <td>10238</td>\n",
       "      <td>11000.0</td>\n",
       "      <td>sedan</td>\n",
       "      <td>0</td>\n",
       "      <td>0</td>\n",
       "      <td>0</td>\n",
       "      <td>False</td>\n",
       "    </tr>\n",
       "    <tr>\n",
       "      <th>3</th>\n",
       "      <td>478866</td>\n",
       "      <td>16-25</td>\n",
       "      <td>male</td>\n",
       "      <td>majority</td>\n",
       "      <td>0-9y</td>\n",
       "      <td>university</td>\n",
       "      <td>working class</td>\n",
       "      <td>0.206013</td>\n",
       "      <td>True</td>\n",
       "      <td>before 2015</td>\n",
       "      <td>False</td>\n",
       "      <td>True</td>\n",
       "      <td>32765</td>\n",
       "      <td>11000.0</td>\n",
       "      <td>sedan</td>\n",
       "      <td>0</td>\n",
       "      <td>0</td>\n",
       "      <td>0</td>\n",
       "      <td>False</td>\n",
       "    </tr>\n",
       "    <tr>\n",
       "      <th>4</th>\n",
       "      <td>731664</td>\n",
       "      <td>26-39</td>\n",
       "      <td>male</td>\n",
       "      <td>majority</td>\n",
       "      <td>10-19y</td>\n",
       "      <td>none</td>\n",
       "      <td>working class</td>\n",
       "      <td>0.388366</td>\n",
       "      <td>True</td>\n",
       "      <td>before 2015</td>\n",
       "      <td>False</td>\n",
       "      <td>False</td>\n",
       "      <td>32765</td>\n",
       "      <td>12000.0</td>\n",
       "      <td>sedan</td>\n",
       "      <td>2</td>\n",
       "      <td>0</td>\n",
       "      <td>1</td>\n",
       "      <td>True</td>\n",
       "    </tr>\n",
       "  </tbody>\n",
       "</table>\n",
       "</div>"
      ],
      "text/plain": [
       "       id    age  gender      race driving_experience    education  \\\n",
       "0  569520    65+  female  majority               0-9y  high school   \n",
       "1  750365  16-25    male  majority               0-9y         none   \n",
       "2  199901  16-25  female  majority               0-9y  high school   \n",
       "3  478866  16-25    male  majority               0-9y   university   \n",
       "4  731664  26-39    male  majority             10-19y         none   \n",
       "\n",
       "          income  credit_score  vehicle_ownership vehicle_year  married  \\\n",
       "0    upper class      0.629027               True   after 2015    False   \n",
       "1        poverty      0.357757              False  before 2015    False   \n",
       "2  working class      0.493146               True  before 2015    False   \n",
       "3  working class      0.206013               True  before 2015    False   \n",
       "4  working class      0.388366               True  before 2015    False   \n",
       "\n",
       "   children  postal_code  annual_mileage vehicle_type  speeding_violations  \\\n",
       "0      True        10238         12000.0        sedan                    0   \n",
       "1     False        10238         16000.0        sedan                    0   \n",
       "2     False        10238         11000.0        sedan                    0   \n",
       "3      True        32765         11000.0        sedan                    0   \n",
       "4     False        32765         12000.0        sedan                    2   \n",
       "\n",
       "   DUIs  past_accidents  outcome  \n",
       "0     0               0    False  \n",
       "1     0               0     True  \n",
       "2     0               0    False  \n",
       "3     0               0    False  \n",
       "4     0               1     True  "
      ]
     },
     "execution_count": 627,
     "metadata": {},
     "output_type": "execute_result"
    }
   ],
   "source": [
    "insurance.head()"
   ]
  },
  {
   "cell_type": "code",
   "execution_count": null,
   "metadata": {},
   "outputs": [],
   "source": [
    "#Data Description\n",
    "#Age: age of primary beneficiary\n",
    "\n",
    "\n",
    "#gender: insurance contractor gender, female, male\n",
    "\n",
    "\n",
    "#race: majority and minority\n",
    "\n",
    "\n",
    "#driving_experience\n",
    "\n",
    "\n",
    "#education: none, high school, university\n",
    "\n",
    "\n",
    "#Income: upper class, powerty, working class\n",
    "\n",
    "\n",
    "#Credit score:\n",
    "\n",
    "\n",
    "#vehicle_ownership\n",
    "\n",
    "\n",
    "#vehicle_year\n",
    "\n",
    "\n",
    "#married\n",
    "\n",
    "\n",
    "#childreen\n"
   ]
  },
  {
   "cell_type": "code",
   "execution_count": 628,
   "metadata": {},
   "outputs": [
    {
     "data": {
      "text/plain": [
       "(10000, 19)"
      ]
     },
     "execution_count": 628,
     "metadata": {},
     "output_type": "execute_result"
    }
   ],
   "source": [
    "insurance.shape"
   ]
  },
  {
   "cell_type": "code",
   "execution_count": 629,
   "metadata": {},
   "outputs": [
    {
     "data": {
      "text/html": [
       "<div>\n",
       "<style scoped>\n",
       "    .dataframe tbody tr th:only-of-type {\n",
       "        vertical-align: middle;\n",
       "    }\n",
       "\n",
       "    .dataframe tbody tr th {\n",
       "        vertical-align: top;\n",
       "    }\n",
       "\n",
       "    .dataframe thead th {\n",
       "        text-align: right;\n",
       "    }\n",
       "</style>\n",
       "<table border=\"1\" class=\"dataframe\">\n",
       "  <thead>\n",
       "    <tr style=\"text-align: right;\">\n",
       "      <th></th>\n",
       "      <th>id</th>\n",
       "      <th>credit_score</th>\n",
       "      <th>postal_code</th>\n",
       "      <th>annual_mileage</th>\n",
       "      <th>speeding_violations</th>\n",
       "      <th>DUIs</th>\n",
       "      <th>past_accidents</th>\n",
       "    </tr>\n",
       "  </thead>\n",
       "  <tbody>\n",
       "    <tr>\n",
       "      <th>count</th>\n",
       "      <td>10000.000000</td>\n",
       "      <td>9018.000000</td>\n",
       "      <td>10000.000000</td>\n",
       "      <td>9043.000000</td>\n",
       "      <td>10000.000000</td>\n",
       "      <td>10000.00000</td>\n",
       "      <td>10000.000000</td>\n",
       "    </tr>\n",
       "    <tr>\n",
       "      <th>mean</th>\n",
       "      <td>500521.906800</td>\n",
       "      <td>0.515813</td>\n",
       "      <td>19864.548400</td>\n",
       "      <td>11697.003207</td>\n",
       "      <td>1.482900</td>\n",
       "      <td>0.23920</td>\n",
       "      <td>1.056300</td>\n",
       "    </tr>\n",
       "    <tr>\n",
       "      <th>std</th>\n",
       "      <td>290030.768758</td>\n",
       "      <td>0.137688</td>\n",
       "      <td>18915.613855</td>\n",
       "      <td>2818.434528</td>\n",
       "      <td>2.241966</td>\n",
       "      <td>0.55499</td>\n",
       "      <td>1.652454</td>\n",
       "    </tr>\n",
       "    <tr>\n",
       "      <th>min</th>\n",
       "      <td>101.000000</td>\n",
       "      <td>0.053358</td>\n",
       "      <td>10238.000000</td>\n",
       "      <td>2000.000000</td>\n",
       "      <td>0.000000</td>\n",
       "      <td>0.00000</td>\n",
       "      <td>0.000000</td>\n",
       "    </tr>\n",
       "    <tr>\n",
       "      <th>25%</th>\n",
       "      <td>249638.500000</td>\n",
       "      <td>0.417191</td>\n",
       "      <td>10238.000000</td>\n",
       "      <td>10000.000000</td>\n",
       "      <td>0.000000</td>\n",
       "      <td>0.00000</td>\n",
       "      <td>0.000000</td>\n",
       "    </tr>\n",
       "    <tr>\n",
       "      <th>50%</th>\n",
       "      <td>501777.000000</td>\n",
       "      <td>0.525033</td>\n",
       "      <td>10238.000000</td>\n",
       "      <td>12000.000000</td>\n",
       "      <td>0.000000</td>\n",
       "      <td>0.00000</td>\n",
       "      <td>0.000000</td>\n",
       "    </tr>\n",
       "    <tr>\n",
       "      <th>75%</th>\n",
       "      <td>753974.500000</td>\n",
       "      <td>0.618312</td>\n",
       "      <td>32765.000000</td>\n",
       "      <td>14000.000000</td>\n",
       "      <td>2.000000</td>\n",
       "      <td>0.00000</td>\n",
       "      <td>2.000000</td>\n",
       "    </tr>\n",
       "    <tr>\n",
       "      <th>max</th>\n",
       "      <td>999976.000000</td>\n",
       "      <td>0.960819</td>\n",
       "      <td>92101.000000</td>\n",
       "      <td>22000.000000</td>\n",
       "      <td>22.000000</td>\n",
       "      <td>6.00000</td>\n",
       "      <td>15.000000</td>\n",
       "    </tr>\n",
       "  </tbody>\n",
       "</table>\n",
       "</div>"
      ],
      "text/plain": [
       "                  id  credit_score   postal_code  annual_mileage  \\\n",
       "count   10000.000000   9018.000000  10000.000000     9043.000000   \n",
       "mean   500521.906800      0.515813  19864.548400    11697.003207   \n",
       "std    290030.768758      0.137688  18915.613855     2818.434528   \n",
       "min       101.000000      0.053358  10238.000000     2000.000000   \n",
       "25%    249638.500000      0.417191  10238.000000    10000.000000   \n",
       "50%    501777.000000      0.525033  10238.000000    12000.000000   \n",
       "75%    753974.500000      0.618312  32765.000000    14000.000000   \n",
       "max    999976.000000      0.960819  92101.000000    22000.000000   \n",
       "\n",
       "       speeding_violations         DUIs  past_accidents  \n",
       "count         10000.000000  10000.00000    10000.000000  \n",
       "mean              1.482900      0.23920        1.056300  \n",
       "std               2.241966      0.55499        1.652454  \n",
       "min               0.000000      0.00000        0.000000  \n",
       "25%               0.000000      0.00000        0.000000  \n",
       "50%               0.000000      0.00000        0.000000  \n",
       "75%               2.000000      0.00000        2.000000  \n",
       "max              22.000000      6.00000       15.000000  "
      ]
     },
     "execution_count": 629,
     "metadata": {},
     "output_type": "execute_result"
    }
   ],
   "source": [
    "insurance.describe()"
   ]
  },
  {
   "cell_type": "code",
   "execution_count": 630,
   "metadata": {},
   "outputs": [
    {
     "data": {
      "text/plain": [
       "id                       int64\n",
       "age                     object\n",
       "gender                  object\n",
       "race                    object\n",
       "driving_experience      object\n",
       "education               object\n",
       "income                  object\n",
       "credit_score           float64\n",
       "vehicle_ownership         bool\n",
       "vehicle_year            object\n",
       "married                   bool\n",
       "children                  bool\n",
       "postal_code              int64\n",
       "annual_mileage         float64\n",
       "vehicle_type            object\n",
       "speeding_violations      int64\n",
       "DUIs                     int64\n",
       "past_accidents           int64\n",
       "outcome                   bool\n",
       "dtype: object"
      ]
     },
     "execution_count": 630,
     "metadata": {},
     "output_type": "execute_result"
    }
   ],
   "source": [
    "insurance.dtypes"
   ]
  },
  {
   "cell_type": "markdown",
   "metadata": {},
   "source": [
    "## Identify the missing values"
   ]
  },
  {
   "cell_type": "code",
   "execution_count": 631,
   "metadata": {},
   "outputs": [
    {
     "data": {
      "text/plain": [
       "id                       0\n",
       "age                      0\n",
       "gender                   0\n",
       "race                     0\n",
       "driving_experience       0\n",
       "education                0\n",
       "income                   0\n",
       "credit_score           982\n",
       "vehicle_ownership        0\n",
       "vehicle_year             0\n",
       "married                  0\n",
       "children                 0\n",
       "postal_code              0\n",
       "annual_mileage         957\n",
       "vehicle_type             0\n",
       "speeding_violations      0\n",
       "DUIs                     0\n",
       "past_accidents           0\n",
       "outcome                  0\n",
       "dtype: int64"
      ]
     },
     "execution_count": 631,
     "metadata": {},
     "output_type": "execute_result"
    }
   ],
   "source": [
    "insurance.isnull().sum()"
   ]
  },
  {
   "cell_type": "code",
   "execution_count": 632,
   "metadata": {},
   "outputs": [],
   "source": [
    "insurance = insurance.dropna(subset=['credit_score'])"
   ]
  },
  {
   "cell_type": "code",
   "execution_count": 633,
   "metadata": {},
   "outputs": [],
   "source": [
    "insurance = insurance.dropna(subset=['annual_mileage'])"
   ]
  },
  {
   "cell_type": "code",
   "execution_count": 634,
   "metadata": {},
   "outputs": [
    {
     "data": {
      "text/plain": [
       "id                     0\n",
       "age                    0\n",
       "gender                 0\n",
       "race                   0\n",
       "driving_experience     0\n",
       "education              0\n",
       "income                 0\n",
       "credit_score           0\n",
       "vehicle_ownership      0\n",
       "vehicle_year           0\n",
       "married                0\n",
       "children               0\n",
       "postal_code            0\n",
       "annual_mileage         0\n",
       "vehicle_type           0\n",
       "speeding_violations    0\n",
       "DUIs                   0\n",
       "past_accidents         0\n",
       "outcome                0\n",
       "dtype: int64"
      ]
     },
     "execution_count": 634,
     "metadata": {},
     "output_type": "execute_result"
    }
   ],
   "source": [
    "insurance.isnull().sum()"
   ]
  },
  {
   "cell_type": "code",
   "execution_count": 635,
   "metadata": {},
   "outputs": [
    {
     "data": {
      "text/plain": [
       "id                     False\n",
       "age                    False\n",
       "gender                 False\n",
       "race                   False\n",
       "driving_experience     False\n",
       "education              False\n",
       "income                 False\n",
       "credit_score           False\n",
       "vehicle_ownership      False\n",
       "vehicle_year           False\n",
       "married                False\n",
       "children               False\n",
       "postal_code            False\n",
       "annual_mileage         False\n",
       "vehicle_type           False\n",
       "speeding_violations    False\n",
       "DUIs                   False\n",
       "past_accidents         False\n",
       "outcome                False\n",
       "dtype: bool"
      ]
     },
     "execution_count": 635,
     "metadata": {},
     "output_type": "execute_result"
    }
   ],
   "source": [
    "total_miss = insurance.isnull().any()    # Looks like there are no missing values.\n",
    "total_miss"
   ]
  },
  {
   "cell_type": "markdown",
   "metadata": {},
   "source": [
    "# Feature Enginerring and EDA"
   ]
  },
  {
   "cell_type": "code",
   "execution_count": 594,
   "metadata": {},
   "outputs": [
    {
     "data": {
      "text/html": [
       "<div>\n",
       "<style scoped>\n",
       "    .dataframe tbody tr th:only-of-type {\n",
       "        vertical-align: middle;\n",
       "    }\n",
       "\n",
       "    .dataframe tbody tr th {\n",
       "        vertical-align: top;\n",
       "    }\n",
       "\n",
       "    .dataframe thead th {\n",
       "        text-align: right;\n",
       "    }\n",
       "</style>\n",
       "<table border=\"1\" class=\"dataframe\">\n",
       "  <thead>\n",
       "    <tr style=\"text-align: right;\">\n",
       "      <th></th>\n",
       "      <th>id</th>\n",
       "      <th>credit_score</th>\n",
       "      <th>vehicle_ownership</th>\n",
       "      <th>married</th>\n",
       "      <th>children</th>\n",
       "      <th>postal_code</th>\n",
       "      <th>annual_mileage</th>\n",
       "      <th>speeding_violations</th>\n",
       "      <th>DUIs</th>\n",
       "      <th>past_accidents</th>\n",
       "      <th>outcome</th>\n",
       "    </tr>\n",
       "  </thead>\n",
       "  <tbody>\n",
       "    <tr>\n",
       "      <th>id</th>\n",
       "      <td>1.000000</td>\n",
       "      <td>-0.002144</td>\n",
       "      <td>0.004358</td>\n",
       "      <td>0.009331</td>\n",
       "      <td>-0.000431</td>\n",
       "      <td>-0.001299</td>\n",
       "      <td>0.002282</td>\n",
       "      <td>0.012750</td>\n",
       "      <td>0.006082</td>\n",
       "      <td>0.006239</td>\n",
       "      <td>-0.006222</td>\n",
       "    </tr>\n",
       "    <tr>\n",
       "      <th>credit_score</th>\n",
       "      <td>-0.002144</td>\n",
       "      <td>1.000000</td>\n",
       "      <td>0.312995</td>\n",
       "      <td>0.282555</td>\n",
       "      <td>0.221354</td>\n",
       "      <td>0.007465</td>\n",
       "      <td>-0.174453</td>\n",
       "      <td>0.208433</td>\n",
       "      <td>0.127888</td>\n",
       "      <td>0.182408</td>\n",
       "      <td>-0.321436</td>\n",
       "    </tr>\n",
       "    <tr>\n",
       "      <th>vehicle_ownership</th>\n",
       "      <td>0.004358</td>\n",
       "      <td>0.312995</td>\n",
       "      <td>1.000000</td>\n",
       "      <td>0.170752</td>\n",
       "      <td>0.116477</td>\n",
       "      <td>-0.010469</td>\n",
       "      <td>-0.093710</td>\n",
       "      <td>0.133302</td>\n",
       "      <td>0.087432</td>\n",
       "      <td>0.121881</td>\n",
       "      <td>-0.386217</td>\n",
       "    </tr>\n",
       "    <tr>\n",
       "      <th>married</th>\n",
       "      <td>0.009331</td>\n",
       "      <td>0.282555</td>\n",
       "      <td>0.170752</td>\n",
       "      <td>1.000000</td>\n",
       "      <td>0.293613</td>\n",
       "      <td>0.010056</td>\n",
       "      <td>-0.465642</td>\n",
       "      <td>0.216213</td>\n",
       "      <td>0.119750</td>\n",
       "      <td>0.214767</td>\n",
       "      <td>-0.253200</td>\n",
       "    </tr>\n",
       "    <tr>\n",
       "      <th>children</th>\n",
       "      <td>-0.000431</td>\n",
       "      <td>0.221354</td>\n",
       "      <td>0.116477</td>\n",
       "      <td>0.293613</td>\n",
       "      <td>1.000000</td>\n",
       "      <td>0.019260</td>\n",
       "      <td>-0.451105</td>\n",
       "      <td>0.224753</td>\n",
       "      <td>0.113996</td>\n",
       "      <td>0.204888</td>\n",
       "      <td>-0.230255</td>\n",
       "    </tr>\n",
       "    <tr>\n",
       "      <th>postal_code</th>\n",
       "      <td>-0.001299</td>\n",
       "      <td>0.007465</td>\n",
       "      <td>-0.010469</td>\n",
       "      <td>0.010056</td>\n",
       "      <td>0.019260</td>\n",
       "      <td>1.000000</td>\n",
       "      <td>-0.130169</td>\n",
       "      <td>0.113228</td>\n",
       "      <td>0.034591</td>\n",
       "      <td>-0.120617</td>\n",
       "      <td>0.095939</td>\n",
       "    </tr>\n",
       "    <tr>\n",
       "      <th>annual_mileage</th>\n",
       "      <td>0.002282</td>\n",
       "      <td>-0.174453</td>\n",
       "      <td>-0.093710</td>\n",
       "      <td>-0.465642</td>\n",
       "      <td>-0.451105</td>\n",
       "      <td>-0.130169</td>\n",
       "      <td>1.000000</td>\n",
       "      <td>-0.318478</td>\n",
       "      <td>-0.113474</td>\n",
       "      <td>-0.195160</td>\n",
       "      <td>0.184865</td>\n",
       "    </tr>\n",
       "    <tr>\n",
       "      <th>speeding_violations</th>\n",
       "      <td>0.012750</td>\n",
       "      <td>0.208433</td>\n",
       "      <td>0.133302</td>\n",
       "      <td>0.216213</td>\n",
       "      <td>0.224753</td>\n",
       "      <td>0.113228</td>\n",
       "      <td>-0.318478</td>\n",
       "      <td>1.000000</td>\n",
       "      <td>0.365700</td>\n",
       "      <td>0.445531</td>\n",
       "      <td>-0.293138</td>\n",
       "    </tr>\n",
       "    <tr>\n",
       "      <th>DUIs</th>\n",
       "      <td>0.006082</td>\n",
       "      <td>0.127888</td>\n",
       "      <td>0.087432</td>\n",
       "      <td>0.119750</td>\n",
       "      <td>0.113996</td>\n",
       "      <td>0.034591</td>\n",
       "      <td>-0.113474</td>\n",
       "      <td>0.365700</td>\n",
       "      <td>1.000000</td>\n",
       "      <td>0.264834</td>\n",
       "      <td>-0.190015</td>\n",
       "    </tr>\n",
       "    <tr>\n",
       "      <th>past_accidents</th>\n",
       "      <td>0.006239</td>\n",
       "      <td>0.182408</td>\n",
       "      <td>0.121881</td>\n",
       "      <td>0.214767</td>\n",
       "      <td>0.204888</td>\n",
       "      <td>-0.120617</td>\n",
       "      <td>-0.195160</td>\n",
       "      <td>0.445531</td>\n",
       "      <td>0.264834</td>\n",
       "      <td>1.000000</td>\n",
       "      <td>-0.312738</td>\n",
       "    </tr>\n",
       "    <tr>\n",
       "      <th>outcome</th>\n",
       "      <td>-0.006222</td>\n",
       "      <td>-0.321436</td>\n",
       "      <td>-0.386217</td>\n",
       "      <td>-0.253200</td>\n",
       "      <td>-0.230255</td>\n",
       "      <td>0.095939</td>\n",
       "      <td>0.184865</td>\n",
       "      <td>-0.293138</td>\n",
       "      <td>-0.190015</td>\n",
       "      <td>-0.312738</td>\n",
       "      <td>1.000000</td>\n",
       "    </tr>\n",
       "  </tbody>\n",
       "</table>\n",
       "</div>"
      ],
      "text/plain": [
       "                           id  credit_score  vehicle_ownership   married  \\\n",
       "id                   1.000000     -0.002144           0.004358  0.009331   \n",
       "credit_score        -0.002144      1.000000           0.312995  0.282555   \n",
       "vehicle_ownership    0.004358      0.312995           1.000000  0.170752   \n",
       "married              0.009331      0.282555           0.170752  1.000000   \n",
       "children            -0.000431      0.221354           0.116477  0.293613   \n",
       "postal_code         -0.001299      0.007465          -0.010469  0.010056   \n",
       "annual_mileage       0.002282     -0.174453          -0.093710 -0.465642   \n",
       "speeding_violations  0.012750      0.208433           0.133302  0.216213   \n",
       "DUIs                 0.006082      0.127888           0.087432  0.119750   \n",
       "past_accidents       0.006239      0.182408           0.121881  0.214767   \n",
       "outcome             -0.006222     -0.321436          -0.386217 -0.253200   \n",
       "\n",
       "                     children  postal_code  annual_mileage  \\\n",
       "id                  -0.000431    -0.001299        0.002282   \n",
       "credit_score         0.221354     0.007465       -0.174453   \n",
       "vehicle_ownership    0.116477    -0.010469       -0.093710   \n",
       "married              0.293613     0.010056       -0.465642   \n",
       "children             1.000000     0.019260       -0.451105   \n",
       "postal_code          0.019260     1.000000       -0.130169   \n",
       "annual_mileage      -0.451105    -0.130169        1.000000   \n",
       "speeding_violations  0.224753     0.113228       -0.318478   \n",
       "DUIs                 0.113996     0.034591       -0.113474   \n",
       "past_accidents       0.204888    -0.120617       -0.195160   \n",
       "outcome             -0.230255     0.095939        0.184865   \n",
       "\n",
       "                     speeding_violations      DUIs  past_accidents   outcome  \n",
       "id                              0.012750  0.006082        0.006239 -0.006222  \n",
       "credit_score                    0.208433  0.127888        0.182408 -0.321436  \n",
       "vehicle_ownership               0.133302  0.087432        0.121881 -0.386217  \n",
       "married                         0.216213  0.119750        0.214767 -0.253200  \n",
       "children                        0.224753  0.113996        0.204888 -0.230255  \n",
       "postal_code                     0.113228  0.034591       -0.120617  0.095939  \n",
       "annual_mileage                 -0.318478 -0.113474       -0.195160  0.184865  \n",
       "speeding_violations             1.000000  0.365700        0.445531 -0.293138  \n",
       "DUIs                            0.365700  1.000000        0.264834 -0.190015  \n",
       "past_accidents                  0.445531  0.264834        1.000000 -0.312738  \n",
       "outcome                        -0.293138 -0.190015       -0.312738  1.000000  "
      ]
     },
     "execution_count": 594,
     "metadata": {},
     "output_type": "execute_result"
    }
   ],
   "source": [
    "insurance.corr()   # Checking correlation between the features."
   ]
  },
  {
   "cell_type": "code",
   "execution_count": 595,
   "metadata": {},
   "outputs": [
    {
     "data": {
      "text/plain": [
       "<AxesSubplot:>"
      ]
     },
     "execution_count": 595,
     "metadata": {},
     "output_type": "execute_result"
    },
    {
     "data": {
      "image/png": "[encoded data removed]",
      "text/plain": [
       "<Figure size 432x288 with 2 Axes>"
      ]
     },
     "metadata": {
      "needs_background": "light"
     },
     "output_type": "display_data"
    }
   ],
   "source": [
    "#heat map, smoking, age and bmi have a stronger relationship with charges\n",
    "sns.heatmap(insurance.corr(), annot=True)"
   ]
  },
  {
   "cell_type": "code",
   "execution_count": 636,
   "metadata": {},
   "outputs": [
    {
     "data": {
      "text/plain": [
       "<AxesSubplot:xlabel='age', ylabel='credit_score'>"
      ]
     },
     "execution_count": 636,
     "metadata": {},
     "output_type": "execute_result"
    },
    {
     "data": {
      "image/png": "[encoded data removed]",
      "text/plain": [
       "<Figure size 432x288 with 1 Axes>"
      ]
     },
     "metadata": {
      "needs_background": "light"
     },
     "output_type": "display_data"
    }
   ],
   "source": [
    "sns.boxplot(x = 'age',y='credit_score', data = insurance)"
   ]
  },
  {
   "cell_type": "code",
   "execution_count": 637,
   "metadata": {},
   "outputs": [
    {
     "data": {
      "text/html": [
       "<div>\n",
       "<style scoped>\n",
       "    .dataframe tbody tr th:only-of-type {\n",
       "        vertical-align: middle;\n",
       "    }\n",
       "\n",
       "    .dataframe tbody tr th {\n",
       "        vertical-align: top;\n",
       "    }\n",
       "\n",
       "    .dataframe thead th {\n",
       "        text-align: right;\n",
       "    }\n",
       "</style>\n",
       "<table border=\"1\" class=\"dataframe\">\n",
       "  <thead>\n",
       "    <tr style=\"text-align: right;\">\n",
       "      <th></th>\n",
       "      <th>id</th>\n",
       "      <th>age</th>\n",
       "      <th>gender</th>\n",
       "      <th>race</th>\n",
       "      <th>driving_experience</th>\n",
       "      <th>education</th>\n",
       "      <th>income</th>\n",
       "      <th>credit_score</th>\n",
       "      <th>vehicle_ownership</th>\n",
       "      <th>vehicle_year</th>\n",
       "      <th>married</th>\n",
       "      <th>children</th>\n",
       "      <th>postal_code</th>\n",
       "      <th>annual_mileage</th>\n",
       "      <th>vehicle_type</th>\n",
       "      <th>speeding_violations</th>\n",
       "      <th>DUIs</th>\n",
       "      <th>past_accidents</th>\n",
       "      <th>outcome</th>\n",
       "    </tr>\n",
       "  </thead>\n",
       "  <tbody>\n",
       "    <tr>\n",
       "      <th>0</th>\n",
       "      <td>569520</td>\n",
       "      <td>65+</td>\n",
       "      <td>female</td>\n",
       "      <td>majority</td>\n",
       "      <td>0-9y</td>\n",
       "      <td>high school</td>\n",
       "      <td>upper class</td>\n",
       "      <td>0.629027</td>\n",
       "      <td>True</td>\n",
       "      <td>after 2015</td>\n",
       "      <td>False</td>\n",
       "      <td>True</td>\n",
       "      <td>10238</td>\n",
       "      <td>12000.0</td>\n",
       "      <td>sedan</td>\n",
       "      <td>0</td>\n",
       "      <td>0</td>\n",
       "      <td>0</td>\n",
       "      <td>False</td>\n",
       "    </tr>\n",
       "    <tr>\n",
       "      <th>1</th>\n",
       "      <td>750365</td>\n",
       "      <td>16-25</td>\n",
       "      <td>male</td>\n",
       "      <td>majority</td>\n",
       "      <td>0-9y</td>\n",
       "      <td>none</td>\n",
       "      <td>poverty</td>\n",
       "      <td>0.357757</td>\n",
       "      <td>False</td>\n",
       "      <td>before 2015</td>\n",
       "      <td>False</td>\n",
       "      <td>False</td>\n",
       "      <td>10238</td>\n",
       "      <td>16000.0</td>\n",
       "      <td>sedan</td>\n",
       "      <td>0</td>\n",
       "      <td>0</td>\n",
       "      <td>0</td>\n",
       "      <td>True</td>\n",
       "    </tr>\n",
       "    <tr>\n",
       "      <th>2</th>\n",
       "      <td>199901</td>\n",
       "      <td>16-25</td>\n",
       "      <td>female</td>\n",
       "      <td>majority</td>\n",
       "      <td>0-9y</td>\n",
       "      <td>high school</td>\n",
       "      <td>working class</td>\n",
       "      <td>0.493146</td>\n",
       "      <td>True</td>\n",
       "      <td>before 2015</td>\n",
       "      <td>False</td>\n",
       "      <td>False</td>\n",
       "      <td>10238</td>\n",
       "      <td>11000.0</td>\n",
       "      <td>sedan</td>\n",
       "      <td>0</td>\n",
       "      <td>0</td>\n",
       "      <td>0</td>\n",
       "      <td>False</td>\n",
       "    </tr>\n",
       "    <tr>\n",
       "      <th>3</th>\n",
       "      <td>478866</td>\n",
       "      <td>16-25</td>\n",
       "      <td>male</td>\n",
       "      <td>majority</td>\n",
       "      <td>0-9y</td>\n",
       "      <td>university</td>\n",
       "      <td>working class</td>\n",
       "      <td>0.206013</td>\n",
       "      <td>True</td>\n",
       "      <td>before 2015</td>\n",
       "      <td>False</td>\n",
       "      <td>True</td>\n",
       "      <td>32765</td>\n",
       "      <td>11000.0</td>\n",
       "      <td>sedan</td>\n",
       "      <td>0</td>\n",
       "      <td>0</td>\n",
       "      <td>0</td>\n",
       "      <td>False</td>\n",
       "    </tr>\n",
       "    <tr>\n",
       "      <th>4</th>\n",
       "      <td>731664</td>\n",
       "      <td>26-39</td>\n",
       "      <td>male</td>\n",
       "      <td>majority</td>\n",
       "      <td>10-19y</td>\n",
       "      <td>none</td>\n",
       "      <td>working class</td>\n",
       "      <td>0.388366</td>\n",
       "      <td>True</td>\n",
       "      <td>before 2015</td>\n",
       "      <td>False</td>\n",
       "      <td>False</td>\n",
       "      <td>32765</td>\n",
       "      <td>12000.0</td>\n",
       "      <td>sedan</td>\n",
       "      <td>2</td>\n",
       "      <td>0</td>\n",
       "      <td>1</td>\n",
       "      <td>True</td>\n",
       "    </tr>\n",
       "  </tbody>\n",
       "</table>\n",
       "</div>"
      ],
      "text/plain": [
       "       id    age  gender      race driving_experience    education  \\\n",
       "0  569520    65+  female  majority               0-9y  high school   \n",
       "1  750365  16-25    male  majority               0-9y         none   \n",
       "2  199901  16-25  female  majority               0-9y  high school   \n",
       "3  478866  16-25    male  majority               0-9y   university   \n",
       "4  731664  26-39    male  majority             10-19y         none   \n",
       "\n",
       "          income  credit_score  vehicle_ownership vehicle_year  married  \\\n",
       "0    upper class      0.629027               True   after 2015    False   \n",
       "1        poverty      0.357757              False  before 2015    False   \n",
       "2  working class      0.493146               True  before 2015    False   \n",
       "3  working class      0.206013               True  before 2015    False   \n",
       "4  working class      0.388366               True  before 2015    False   \n",
       "\n",
       "   children  postal_code  annual_mileage vehicle_type  speeding_violations  \\\n",
       "0      True        10238         12000.0        sedan                    0   \n",
       "1     False        10238         16000.0        sedan                    0   \n",
       "2     False        10238         11000.0        sedan                    0   \n",
       "3      True        32765         11000.0        sedan                    0   \n",
       "4     False        32765         12000.0        sedan                    2   \n",
       "\n",
       "   DUIs  past_accidents  outcome  \n",
       "0     0               0    False  \n",
       "1     0               0     True  \n",
       "2     0               0    False  \n",
       "3     0               0    False  \n",
       "4     0               1     True  "
      ]
     },
     "execution_count": 637,
     "metadata": {},
     "output_type": "execute_result"
    }
   ],
   "source": [
    "insurance.head()"
   ]
  },
  {
   "cell_type": "code",
   "execution_count": 638,
   "metadata": {},
   "outputs": [
    {
     "data": {
      "text/plain": [
       "id                       int64\n",
       "age                     object\n",
       "gender                  object\n",
       "race                    object\n",
       "driving_experience      object\n",
       "education               object\n",
       "income                  object\n",
       "credit_score           float64\n",
       "vehicle_ownership         bool\n",
       "vehicle_year            object\n",
       "married                   bool\n",
       "children                  bool\n",
       "postal_code              int64\n",
       "annual_mileage         float64\n",
       "vehicle_type            object\n",
       "speeding_violations      int64\n",
       "DUIs                     int64\n",
       "past_accidents           int64\n",
       "outcome                   bool\n",
       "dtype: object"
      ]
     },
     "execution_count": 638,
     "metadata": {},
     "output_type": "execute_result"
    }
   ],
   "source": [
    "insurance.dtypes"
   ]
  },
  {
   "cell_type": "markdown",
   "metadata": {},
   "source": [
    "## Lets change some data type to objects"
   ]
  },
  {
   "cell_type": "code",
   "execution_count": 642,
   "metadata": {},
   "outputs": [],
   "source": [
    "insurance = insurance.astype({\"married\": str, \"children\": str, 'outcome': str})"
   ]
  },
  {
   "cell_type": "code",
   "execution_count": 643,
   "metadata": {},
   "outputs": [
    {
     "data": {
      "text/plain": [
       "id                       int64\n",
       "age                     object\n",
       "gender                  object\n",
       "race                    object\n",
       "driving_experience      object\n",
       "education               object\n",
       "income                  object\n",
       "credit_score           float64\n",
       "vehicle_ownership         bool\n",
       "vehicle_year            object\n",
       "married                 object\n",
       "children                object\n",
       "postal_code              int64\n",
       "annual_mileage         float64\n",
       "vehicle_type            object\n",
       "speeding_violations      int64\n",
       "DUIs                     int64\n",
       "past_accidents           int64\n",
       "outcome                 object\n",
       "dtype: object"
      ]
     },
     "execution_count": 643,
     "metadata": {},
     "output_type": "execute_result"
    }
   ],
   "source": [
    "insurance.dtypes"
   ]
  },
  {
   "cell_type": "markdown",
   "metadata": {},
   "source": [
    "## Lets encode columns for modeling"
   ]
  },
  {
   "cell_type": "code",
   "execution_count": 644,
   "metadata": {},
   "outputs": [
    {
     "name": "stdout",
     "output_type": "stream",
     "text": [
      "age :\n",
      "26-39    2475\n",
      "40-64    2412\n",
      "65+      1641\n",
      "16-25    1621\n",
      "Name: age, dtype: int64\n",
      "gender :\n",
      "female    4084\n",
      "male      4065\n",
      "Name: gender, dtype: int64\n",
      "married :\n",
      "True     4083\n",
      "False    4066\n",
      "Name: married, dtype: int64\n",
      "children :\n",
      "True     5617\n",
      "False    2532\n",
      "Name: children, dtype: int64\n",
      "outcome :\n",
      "False    5613\n",
      "True     2536\n",
      "Name: outcome, dtype: int64\n"
     ]
    }
   ],
   "source": [
    "for col in ['age','gender','married','children','outcome']:\n",
    "    print( col,':')\n",
    "    print(insurance[col].value_counts())"
   ]
  },
  {
   "cell_type": "code",
   "execution_count": 645,
   "metadata": {},
   "outputs": [
    {
     "name": "stdout",
     "output_type": "stream",
     "text": [
      "Completed Label encoding on age\n",
      "Completed Label encoding on gender\n",
      "Completed Label encoding on married\n",
      "Completed Label encoding on children\n",
      "Completed Label encoding on outcome\n"
     ]
    }
   ],
   "source": [
    "# label endcoding for the object datatypes\n",
    "for col in ['age','gender','married','children','outcome']:\n",
    "    if (insurance[col].dtype == 'object'):\n",
    "        le = preprocessing.LabelEncoder()\n",
    "        le = le.fit(insurance[col])\n",
    "        insurance[col] = le.transform(insurance[col])\n",
    "        print('Completed Label encoding on',col)"
   ]
  },
  {
   "cell_type": "code",
   "execution_count": 646,
   "metadata": {},
   "outputs": [],
   "source": [
    "insurance.to_csv('insurance_encoded.csv',index = False)"
   ]
  },
  {
   "cell_type": "markdown",
   "metadata": {},
   "source": [
    "## Splitting independent and dependent variables"
   ]
  },
  {
   "cell_type": "code",
   "execution_count": 647,
   "metadata": {},
   "outputs": [],
   "source": [
    "\n",
    "insurance_target = insurance['outcome']"
   ]
  },
  {
   "cell_type": "code",
   "execution_count": 648,
   "metadata": {},
   "outputs": [],
   "source": [
    "insurance_input = insurance[['age','gender','married', 'children']]"
   ]
  },
  {
   "cell_type": "markdown",
   "metadata": {},
   "source": [
    "## Feature scaling"
   ]
  },
  {
   "cell_type": "code",
   "execution_count": 649,
   "metadata": {},
   "outputs": [],
   "source": [
    "#stadardize data    \n",
    "x_scaled = StandardScaler().fit_transform(insurance_input)"
   ]
  },
  {
   "cell_type": "markdown",
   "metadata": {},
   "source": [
    "## Train/Test split"
   ]
  },
  {
   "cell_type": "code",
   "execution_count": 650,
   "metadata": {},
   "outputs": [],
   "source": [
    "x_train, x_test, y_train, y_test = train_test_split(x_scaled,\n",
    "                                                    insurance_target,\n",
    "                                                    test_size = 0.25,\n",
    "                                                    random_state=1211)"
   ]
  },
  {
   "cell_type": "markdown",
   "metadata": {},
   "source": [
    "# Build Models\n",
    "\n",
    "## 1. Linear Regression"
   ]
  },
  {
   "cell_type": "code",
   "execution_count": 651,
   "metadata": {},
   "outputs": [
    {
     "name": "stdout",
     "output_type": "stream",
     "text": [
      "--- 0.010998010635375977 seconds ---\n"
     ]
    }
   ],
   "source": [
    "from sklearn import linear_model\n",
    "from sklearn.linear_model import LinearRegression\n",
    "\n",
    "#instantiate\n",
    "linReg = LinearRegression()\n",
    "\n",
    "start_time = time.time()\n",
    "\n",
    "# fit linear model to the train set data\n",
    "linReg_model = linReg.fit(x_train, y_train)\n",
    "\n",
    "today = date.today()\n",
    "print(\"--- %s seconds ---\" % (time.time() - start_time))"
   ]
  },
  {
   "cell_type": "code",
   "execution_count": 652,
   "metadata": {},
   "outputs": [
    {
     "data": {
      "text/plain": [
       "array([-0.17905894,  0.04625589, -0.04290564, -0.02293153])"
      ]
     },
     "execution_count": 652,
     "metadata": {},
     "output_type": "execute_result"
    }
   ],
   "source": [
    "linReg.coef_"
   ]
  },
  {
   "cell_type": "code",
   "execution_count": 653,
   "metadata": {},
   "outputs": [
    {
     "data": {
      "text/html": [
       "<div>\n",
       "<style scoped>\n",
       "    .dataframe tbody tr th:only-of-type {\n",
       "        vertical-align: middle;\n",
       "    }\n",
       "\n",
       "    .dataframe tbody tr th {\n",
       "        vertical-align: top;\n",
       "    }\n",
       "\n",
       "    .dataframe thead th {\n",
       "        text-align: right;\n",
       "    }\n",
       "</style>\n",
       "<table border=\"1\" class=\"dataframe\">\n",
       "  <thead>\n",
       "    <tr style=\"text-align: right;\">\n",
       "      <th></th>\n",
       "      <th>Coefficient</th>\n",
       "    </tr>\n",
       "  </thead>\n",
       "  <tbody>\n",
       "    <tr>\n",
       "      <th>age</th>\n",
       "      <td>-0.179059</td>\n",
       "    </tr>\n",
       "    <tr>\n",
       "      <th>gender</th>\n",
       "      <td>0.046256</td>\n",
       "    </tr>\n",
       "    <tr>\n",
       "      <th>married</th>\n",
       "      <td>-0.042906</td>\n",
       "    </tr>\n",
       "    <tr>\n",
       "      <th>children</th>\n",
       "      <td>-0.022932</td>\n",
       "    </tr>\n",
       "  </tbody>\n",
       "</table>\n",
       "</div>"
      ],
      "text/plain": [
       "          Coefficient\n",
       "age         -0.179059\n",
       "gender       0.046256\n",
       "married     -0.042906\n",
       "children    -0.022932"
      ]
     },
     "execution_count": 653,
     "metadata": {},
     "output_type": "execute_result"
    }
   ],
   "source": [
    "#get coefficient values\n",
    "\n",
    "input_columns = insurance_input.columns #get feature names\n",
    "\n",
    "coeff_df = pd.DataFrame(linReg.coef_, input_columns, columns=['Coefficient'])  \n",
    "coeff_df"
   ]
  },
  {
   "cell_type": "code",
   "execution_count": 654,
   "metadata": {},
   "outputs": [
    {
     "data": {
      "text/html": [
       "<div>\n",
       "<style scoped>\n",
       "    .dataframe tbody tr th:only-of-type {\n",
       "        vertical-align: middle;\n",
       "    }\n",
       "\n",
       "    .dataframe tbody tr th {\n",
       "        vertical-align: top;\n",
       "    }\n",
       "\n",
       "    .dataframe thead th {\n",
       "        text-align: right;\n",
       "    }\n",
       "</style>\n",
       "<table border=\"1\" class=\"dataframe\">\n",
       "  <thead>\n",
       "    <tr style=\"text-align: right;\">\n",
       "      <th></th>\n",
       "      <th>Actual</th>\n",
       "      <th>Predicted</th>\n",
       "    </tr>\n",
       "  </thead>\n",
       "  <tbody>\n",
       "    <tr>\n",
       "      <th>9555</th>\n",
       "      <td>0</td>\n",
       "      <td>0.303192</td>\n",
       "    </tr>\n",
       "    <tr>\n",
       "      <th>1140</th>\n",
       "      <td>0</td>\n",
       "      <td>0.116209</td>\n",
       "    </tr>\n",
       "    <tr>\n",
       "      <th>2635</th>\n",
       "      <td>1</td>\n",
       "      <td>0.640293</td>\n",
       "    </tr>\n",
       "    <tr>\n",
       "      <th>3698</th>\n",
       "      <td>0</td>\n",
       "      <td>0.116209</td>\n",
       "    </tr>\n",
       "    <tr>\n",
       "      <th>8130</th>\n",
       "      <td>1</td>\n",
       "      <td>0.515149</td>\n",
       "    </tr>\n",
       "  </tbody>\n",
       "</table>\n",
       "</div>"
      ],
      "text/plain": [
       "      Actual  Predicted\n",
       "9555       0   0.303192\n",
       "1140       0   0.116209\n",
       "2635       1   0.640293\n",
       "3698       0   0.116209\n",
       "8130       1   0.515149"
      ]
     },
     "execution_count": 654,
     "metadata": {},
     "output_type": "execute_result"
    }
   ],
   "source": [
    "#validate model\n",
    "y_pred_train = linReg.predict(x_train)    # Predict on train data.\n",
    "y_pred_train[y_pred_train < 0] = y_pred_train.mean()\n",
    "y_pred = linReg.predict(x_test)   # Predict on test data.\n",
    "y_pred[y_pred < 0] = y_pred.mean()\n",
    "diff = pd.DataFrame({'Actual': y_test, 'Predicted': y_pred})\n",
    "diff.head(5)"
   ]
  },
  {
   "cell_type": "code",
   "execution_count": 655,
   "metadata": {},
   "outputs": [
    {
     "data": {
      "text/html": [
       "<div>\n",
       "<style scoped>\n",
       "    .dataframe tbody tr th:only-of-type {\n",
       "        vertical-align: middle;\n",
       "    }\n",
       "\n",
       "    .dataframe tbody tr th {\n",
       "        vertical-align: top;\n",
       "    }\n",
       "\n",
       "    .dataframe thead th {\n",
       "        text-align: right;\n",
       "    }\n",
       "</style>\n",
       "<table border=\"1\" class=\"dataframe\">\n",
       "  <thead>\n",
       "    <tr style=\"text-align: right;\">\n",
       "      <th></th>\n",
       "      <th>Actual</th>\n",
       "      <th>Predicted</th>\n",
       "    </tr>\n",
       "  </thead>\n",
       "  <tbody>\n",
       "    <tr>\n",
       "      <th>9555</th>\n",
       "      <td>0</td>\n",
       "      <td>0.303192</td>\n",
       "    </tr>\n",
       "    <tr>\n",
       "      <th>1140</th>\n",
       "      <td>0</td>\n",
       "      <td>0.116209</td>\n",
       "    </tr>\n",
       "    <tr>\n",
       "      <th>2635</th>\n",
       "      <td>1</td>\n",
       "      <td>0.640293</td>\n",
       "    </tr>\n",
       "    <tr>\n",
       "      <th>3698</th>\n",
       "      <td>0</td>\n",
       "      <td>0.116209</td>\n",
       "    </tr>\n",
       "    <tr>\n",
       "      <th>8130</th>\n",
       "      <td>1</td>\n",
       "      <td>0.515149</td>\n",
       "    </tr>\n",
       "    <tr>\n",
       "      <th>698</th>\n",
       "      <td>0</td>\n",
       "      <td>0.030398</td>\n",
       "    </tr>\n",
       "    <tr>\n",
       "      <th>6774</th>\n",
       "      <td>1</td>\n",
       "      <td>0.303192</td>\n",
       "    </tr>\n",
       "    <tr>\n",
       "      <th>3322</th>\n",
       "      <td>0</td>\n",
       "      <td>0.287275</td>\n",
       "    </tr>\n",
       "    <tr>\n",
       "      <th>5127</th>\n",
       "      <td>0</td>\n",
       "      <td>0.340455</td>\n",
       "    </tr>\n",
       "    <tr>\n",
       "      <th>3472</th>\n",
       "      <td>0</td>\n",
       "      <td>0.205092</td>\n",
       "    </tr>\n",
       "  </tbody>\n",
       "</table>\n",
       "</div>"
      ],
      "text/plain": [
       "      Actual  Predicted\n",
       "9555       0   0.303192\n",
       "1140       0   0.116209\n",
       "2635       1   0.640293\n",
       "3698       0   0.116209\n",
       "8130       1   0.515149\n",
       "698        0   0.030398\n",
       "6774       1   0.303192\n",
       "3322       0   0.287275\n",
       "5127       0   0.340455\n",
       "3472       0   0.205092"
      ]
     },
     "execution_count": 655,
     "metadata": {},
     "output_type": "execute_result"
    }
   ],
   "source": [
    "# Since above graph is not very clear, we will plot first 10 values.\n",
    "diff1 = diff.head(10)\n",
    "diff1"
   ]
  },
  {
   "cell_type": "markdown",
   "metadata": {},
   "source": [
    "## Plotting the actual and Predicted."
   ]
  },
  {
   "cell_type": "code",
   "execution_count": 656,
   "metadata": {},
   "outputs": [
    {
     "data": {
      "image/png": "[encoded data removed]",
      "text/plain": [
       "<Figure size 576x576 with 1 Axes>"
      ]
     },
     "metadata": {
      "needs_background": "light"
     },
     "output_type": "display_data"
    }
   ],
   "source": [
    "diff1.plot(kind='bar',figsize=(8,8))\n",
    "plt.grid(which='major', linestyle='-', linewidth='0.5', color='green')\n",
    "plt.grid(which='minor', linestyle=':', linewidth='0.5', color='black')\n",
    "plt.show()"
   ]
  },
  {
   "cell_type": "code",
   "execution_count": 657,
   "metadata": {},
   "outputs": [],
   "source": [
    "def calculate_accuracy(actual, predicted):\n",
    "    SST = 0\n",
    "    SSR = 0\n",
    "    SSE = 0\n",
    "    RMSE = 0\n",
    "    VIF = 0\n",
    "    RSqr = 0\n",
    "    MAE = 0\n",
    "    MAPE = 0\n",
    "    SST = sum((actual - np.mean(predicted))**2)    # Calculate the SST\n",
    "    SSR = sum((predicted - np.mean(predicted))**2) # Calculate the SSR\n",
    "    SSE = sum((actual - predicted)**2)             # Calculate the SSE\n",
    "    RMSE = np.sqrt((sum((predicted - actual)**2))/len(predicted))  # Calculate the RMSE\n",
    "    RSqr = 1 - (SSE/SST)                           # Calcualte the R_square\n",
    "    if RSqr != 1:\n",
    "        VIF = 1 / (1 - RSqr)                           # Calculate the VIF\n",
    "    #MAPE_house_price = mape(dtc_predict_train, y_train)           # Calculate the MAPE\n",
    "    #MAE_house_price = mae(y_train, dtc_predict_train)             # Calculate the MAE\n",
    "    return RMSE, RSqr, VIF"
   ]
  },
  {
   "cell_type": "code",
   "execution_count": 658,
   "metadata": {},
   "outputs": [
    {
     "name": "stdout",
     "output_type": "stream",
     "text": [
      "Mean Absolute Error: 0.35963046162097806\n",
      "Mean Squared Error: 0.17427127472451615\n",
      "Root Mean Squared Error: 0.4174581113411454\n",
      "Intercept:  0.3043201635377515\n"
     ]
    }
   ],
   "source": [
    "# Finding MAE, MSE and other, metrics.\n",
    "from sklearn import metrics\n",
    "print('Mean Absolute Error:', metrics.mean_absolute_error(y_test, y_pred))  \n",
    "print('Mean Squared Error:', metrics.mean_squared_error(y_test, y_pred))  \n",
    "print('Root Mean Squared Error:', np.sqrt(metrics.mean_squared_error(y_test, y_pred)))\n",
    "# print the intercept and coefficients\n",
    "print('Intercept: ',linReg.intercept_)\n",
    "#print('r2 score: ',linReg.score(x_train, y_train))\n",
    "#print('r2 score: ',linReg.score(x_test, y_test))"
   ]
  },
  {
   "cell_type": "code",
   "execution_count": 659,
   "metadata": {},
   "outputs": [
    {
     "name": "stdout",
     "output_type": "stream",
     "text": [
      "Linear RMSE train =  0.4119749316644422 R-Square train =  0.20177862588167184 VIF train =  1.2527852954383056\n",
      "Linear RMSE test =  0.4174581113411453 R-Square test =  0.21266440275899923 VIF test =  1.2701064241274276\n"
     ]
    }
   ],
   "source": [
    "# calculate the accuracies\n",
    "RMSE, RSqr, VIF = calculate_accuracy(y_train,y_pred_train)\n",
    "print('Linear RMSE train = ',RMSE, 'R-Square train = ',RSqr, 'VIF train = ',VIF)\n",
    "\n",
    "RMSE, RSqr, VIF = calculate_accuracy(y_test,y_pred)\n",
    "print('Linear RMSE test = ',RMSE, 'R-Square test = ',RSqr, 'VIF test = ',VIF)"
   ]
  },
  {
   "cell_type": "code",
   "execution_count": null,
   "metadata": {},
   "outputs": [],
   "source": []
  },
  {
   "cell_type": "code",
   "execution_count": 660,
   "metadata": {},
   "outputs": [
    {
     "name": "stdout",
     "output_type": "stream",
     "text": [
      "(8149, 5)\n"
     ]
    },
    {
     "data": {
      "text/html": [
       "<table class=\"simpletable\">\n",
       "<caption>OLS Regression Results</caption>\n",
       "<tr>\n",
       "  <th>Dep. Variable:</th>         <td>outcome</td>     <th>  R-squared:         </th> <td>   0.219</td>\n",
       "</tr>\n",
       "<tr>\n",
       "  <th>Model:</th>                   <td>OLS</td>       <th>  Adj. R-squared:    </th> <td>   0.218</td>\n",
       "</tr>\n",
       "<tr>\n",
       "  <th>Method:</th>             <td>Least Squares</td>  <th>  F-statistic:       </th> <td>   569.7</td>\n",
       "</tr>\n",
       "<tr>\n",
       "  <th>Date:</th>             <td>Mon, 17 Jan 2022</td> <th>  Prob (F-statistic):</th>  <td>  0.00</td> \n",
       "</tr>\n",
       "<tr>\n",
       "  <th>Time:</th>                 <td>13:42:49</td>     <th>  Log-Likelihood:    </th> <td> -4282.5</td>\n",
       "</tr>\n",
       "<tr>\n",
       "  <th>No. Observations:</th>      <td>  8149</td>      <th>  AIC:               </th> <td>   8575.</td>\n",
       "</tr>\n",
       "<tr>\n",
       "  <th>Df Residuals:</th>          <td>  8144</td>      <th>  BIC:               </th> <td>   8610.</td>\n",
       "</tr>\n",
       "<tr>\n",
       "  <th>Df Model:</th>              <td>     4</td>      <th>                     </th>     <td> </td>   \n",
       "</tr>\n",
       "<tr>\n",
       "  <th>Covariance Type:</th>      <td>nonrobust</td>    <th>                     </th>     <td> </td>   \n",
       "</tr>\n",
       "</table>\n",
       "<table class=\"simpletable\">\n",
       "<tr>\n",
       "    <td></td>       <th>coef</th>     <th>std err</th>      <th>t</th>      <th>P>|t|</th>  <th>[0.025</th>    <th>0.975]</th>  \n",
       "</tr>\n",
       "<tr>\n",
       "  <th>const</th> <td>    0.3112</td> <td>    0.005</td> <td>   68.623</td> <td> 0.000</td> <td>    0.302</td> <td>    0.320</td>\n",
       "</tr>\n",
       "<tr>\n",
       "  <th>x1</th>    <td>   -0.1805</td> <td>    0.005</td> <td>  -34.974</td> <td> 0.000</td> <td>   -0.191</td> <td>   -0.170</td>\n",
       "</tr>\n",
       "<tr>\n",
       "  <th>x2</th>    <td>    0.0481</td> <td>    0.005</td> <td>   10.606</td> <td> 0.000</td> <td>    0.039</td> <td>    0.057</td>\n",
       "</tr>\n",
       "<tr>\n",
       "  <th>x3</th>    <td>   -0.0420</td> <td>    0.005</td> <td>   -8.443</td> <td> 0.000</td> <td>   -0.052</td> <td>   -0.032</td>\n",
       "</tr>\n",
       "<tr>\n",
       "  <th>x4</th>    <td>   -0.0246</td> <td>    0.005</td> <td>   -4.917</td> <td> 0.000</td> <td>   -0.034</td> <td>   -0.015</td>\n",
       "</tr>\n",
       "</table>\n",
       "<table class=\"simpletable\">\n",
       "<tr>\n",
       "  <th>Omnibus:</th>       <td>772.511</td> <th>  Durbin-Watson:     </th> <td>   2.041</td> \n",
       "</tr>\n",
       "<tr>\n",
       "  <th>Prob(Omnibus):</th> <td> 0.000</td>  <th>  Jarque-Bera (JB):  </th> <td> 588.762</td> \n",
       "</tr>\n",
       "<tr>\n",
       "  <th>Skew:</th>          <td> 0.563</td>  <th>  Prob(JB):          </th> <td>1.42e-128</td>\n",
       "</tr>\n",
       "<tr>\n",
       "  <th>Kurtosis:</th>      <td> 2.316</td>  <th>  Cond. No.          </th> <td>    1.71</td> \n",
       "</tr>\n",
       "</table><br/><br/>Notes:<br/>[1] Standard Errors assume that the covariance matrix of the errors is correctly specified."
      ],
      "text/plain": [
       "<class 'statsmodels.iolib.summary.Summary'>\n",
       "\"\"\"\n",
       "                            OLS Regression Results                            \n",
       "==============================================================================\n",
       "Dep. Variable:                outcome   R-squared:                       0.219\n",
       "Model:                            OLS   Adj. R-squared:                  0.218\n",
       "Method:                 Least Squares   F-statistic:                     569.7\n",
       "Date:                Mon, 17 Jan 2022   Prob (F-statistic):               0.00\n",
       "Time:                        13:42:49   Log-Likelihood:                -4282.5\n",
       "No. Observations:                8149   AIC:                             8575.\n",
       "Df Residuals:                    8144   BIC:                             8610.\n",
       "Df Model:                           4                                         \n",
       "Covariance Type:            nonrobust                                         \n",
       "==============================================================================\n",
       "                 coef    std err          t      P>|t|      [0.025      0.975]\n",
       "------------------------------------------------------------------------------\n",
       "const          0.3112      0.005     68.623      0.000       0.302       0.320\n",
       "x1            -0.1805      0.005    -34.974      0.000      -0.191      -0.170\n",
       "x2             0.0481      0.005     10.606      0.000       0.039       0.057\n",
       "x3            -0.0420      0.005     -8.443      0.000      -0.052      -0.032\n",
       "x4            -0.0246      0.005     -4.917      0.000      -0.034      -0.015\n",
       "==============================================================================\n",
       "Omnibus:                      772.511   Durbin-Watson:                   2.041\n",
       "Prob(Omnibus):                  0.000   Jarque-Bera (JB):              588.762\n",
       "Skew:                           0.563   Prob(JB):                    1.42e-128\n",
       "Kurtosis:                       2.316   Cond. No.                         1.71\n",
       "==============================================================================\n",
       "\n",
       "Notes:\n",
       "[1] Standard Errors assume that the covariance matrix of the errors is correctly specified.\n",
       "\"\"\""
      ]
     },
     "execution_count": 660,
     "metadata": {},
     "output_type": "execute_result"
    }
   ],
   "source": [
    "#Backward elimination to check for high significance feature\n",
    "\n",
    "import statsmodels.api as sm\n",
    "a = 0\n",
    "b = 0\n",
    "a, b = x_scaled.shape\n",
    "x_scaled = np.append(arr = np.ones((a, 1)).astype(int), values = x_scaled, axis = 1)\n",
    "print (x_scaled.shape)\n",
    "\n",
    "x_scaled_opt = x_scaled\n",
    "##OrdinaryLeastSquares\n",
    "regressorOLS = sm.OLS(endog = insurance_target, exog = x_scaled_opt).fit()\n",
    "regressorOLS.summary()"
   ]
  },
  {
   "cell_type": "markdown",
   "metadata": {},
   "source": [
    "## 2. Decision Tree"
   ]
  },
  {
   "cell_type": "code",
   "execution_count": 661,
   "metadata": {},
   "outputs": [
    {
     "name": "stdout",
     "output_type": "stream",
     "text": [
      "Decision Tree RMSE train =  0.3989453986894487 R-Square train =  0.2487489698265768 VIF train =  1.3311129833248336\n",
      "Decision Tree RMSE test =  0.40691323523567335 R-Square test =  0.2540532308892369 VIF test =  1.3405782307926497\n"
     ]
    }
   ],
   "source": [
    "from sklearn.tree import DecisionTreeRegressor\n",
    "dtc = DecisionTreeRegressor(random_state=1)\n",
    "\n",
    "# create the model\n",
    "dtc.fit(x_train,y_train)\n",
    "\n",
    "# prediction on train data\n",
    "dtc_predict_train = dtc.predict(x_train)\n",
    "\n",
    "# prediction on test data\n",
    "dtc_predict_test = dtc.predict(x_test)\n",
    "\n",
    "# calculate the accuracies\n",
    "RMSE, RSqr, VIF = calculate_accuracy(y_train,dtc_predict_train)\n",
    "print('Decision Tree RMSE train = ',RMSE, 'R-Square train = ',RSqr, 'VIF train = ',VIF)\n",
    "\n",
    "RMSE, RSqr, VIF = calculate_accuracy(y_test,dtc_predict_test)\n",
    "print('Decision Tree RMSE test = ',RMSE, 'R-Square test = ',RSqr, 'VIF test = ',VIF)"
   ]
  },
  {
   "cell_type": "markdown",
   "metadata": {},
   "source": [
    "## Random Forest"
   ]
  },
  {
   "cell_type": "code",
   "execution_count": 662,
   "metadata": {},
   "outputs": [
    {
     "name": "stdout",
     "output_type": "stream",
     "text": [
      "Random Forest RMSE train =  0.3989512288465472 R-Square train =  0.24872703318770017 VIF train =  1.3310741157678883\n",
      "Random Forest RMSE test =  0.40683228045646247 R-Square test =  0.25434341250537085 VIF test =  1.341099933630242\n"
     ]
    }
   ],
   "source": [
    "from sklearn.ensemble import RandomForestRegressor\n",
    "# Random forest model\n",
    "rfc = RandomForestRegressor()\n",
    "\n",
    "rfc.fit(x_train,y_train)\n",
    "\n",
    "# prediction on train data\n",
    "rfc_predict_train = rfc.predict(x_train)\n",
    "\n",
    "# prediction on test data\n",
    "rfc_predict_test = rfc.predict(x_test)\n",
    "\n",
    "# calculate the accuracies\n",
    "RMSE, RSqr, VIF = calculate_accuracy(y_train,rfc_predict_train)\n",
    "print('Random Forest RMSE train = ',RMSE, 'R-Square train = ',RSqr, 'VIF train = ',VIF)\n",
    "\n",
    "RMSE, RSqr, VIF = calculate_accuracy(y_test,rfc_predict_test)\n",
    "print('Random Forest RMSE test = ',RMSE, 'R-Square test = ',RSqr, 'VIF test = ',VIF)"
   ]
  },
  {
   "cell_type": "code",
   "execution_count": 663,
   "metadata": {},
   "outputs": [
    {
     "name": "stdout",
     "output_type": "stream",
     "text": [
      "Metrics of linear regression:\n",
      "Linear RMSE train =  0.4119749316644422 R-Square train =  0.20177862588167184 VIF train =  1.2527852954383056\n",
      "Linear RMSE test =  0.4174581113411453 R-Square test =  0.21266440275899923 VIF test =  1.2701064241274276\n",
      "                                  \n",
      "Metrics of Decision Tree:\n",
      "Decision Tree RMSE train =  0.3989453986894487 R-Square train =  0.2487489698265768 VIF train =  1.3311129833248336\n",
      "Decision Tree RMSE test =  0.40691323523567335 R-Square test =  0.2540532308892369 VIF test =  1.3405782307926497\n",
      "                                  \n",
      "Metrics of Random Forest:\n",
      "Random Forest RMSE train =  0.3989512288465472 R-Square train =  0.24872703318770017 VIF train =  1.3310741157678883\n",
      "Random Forest RMSE test =  0.40683228045646247 R-Square test =  0.25434341250537085 VIF test =  1.341099933630242\n"
     ]
    }
   ],
   "source": [
    "print('Metrics of linear regression:')\n",
    "RMSE, RSqr, VIF = calculate_accuracy(y_train,y_pred_train)\n",
    "print('Linear RMSE train = ',RMSE, 'R-Square train = ',RSqr, 'VIF train = ',VIF)\n",
    "RMSE, RSqr, VIF = calculate_accuracy(y_test,y_pred)\n",
    "print('Linear RMSE test = ',RMSE, 'R-Square test = ',RSqr, 'VIF test = ',VIF)\n",
    "print('                                  ')\n",
    "\n",
    "print('Metrics of Decision Tree:')\n",
    "RMSE, RSqr, VIF = calculate_accuracy(y_train,dtc_predict_train)\n",
    "print('Decision Tree RMSE train = ',RMSE, 'R-Square train = ',RSqr, 'VIF train = ',VIF)\n",
    "RMSE, RSqr, VIF = calculate_accuracy(y_test,dtc_predict_test)\n",
    "print('Decision Tree RMSE test = ',RMSE, 'R-Square test = ',RSqr, 'VIF test = ',VIF)\n",
    "print('                                  ')\n",
    "\n",
    "print('Metrics of Random Forest:')\n",
    "RMSE, RSqr, VIF = calculate_accuracy(y_train,rfc_predict_train)\n",
    "print('Random Forest RMSE train = ',RMSE, 'R-Square train = ',RSqr, 'VIF train = ',VIF)\n",
    "RMSE, RSqr, VIF = calculate_accuracy(y_test,rfc_predict_test)\n",
    "print('Random Forest RMSE test = ',RMSE, 'R-Square test = ',RSqr, 'VIF test = ',VIF)"
   ]
  },
  {
   "cell_type": "code",
   "execution_count": 664,
   "metadata": {},
   "outputs": [],
   "source": [
    "import pickle"
   ]
  },
  {
   "cell_type": "code",
   "execution_count": 665,
   "metadata": {},
   "outputs": [],
   "source": [
    "# save the model to disk\n",
    "filename = 'streamlit_insurance_predictcharges.pkl'\n",
    "pickle.dump(rfc, open(filename, 'wb'))"
   ]
  },
  {
   "cell_type": "code",
   "execution_count": 666,
   "metadata": {},
   "outputs": [
    {
     "name": "stdout",
     "output_type": "stream",
     "text": [
      "0.2522353977065347\n"
     ]
    }
   ],
   "source": [
    "# load the model from disk\n",
    "loaded_model = pickle.load(open(filename, 'rb'))\n",
    "result = loaded_model.score(x_test, y_test)\n",
    "print(result)"
   ]
  },
  {
   "cell_type": "code",
   "execution_count": null,
   "metadata": {},
   "outputs": [],
   "source": []
  }
 ],
 "metadata": {
  "kernelspec": {
   "display_name": "Python 3",
   "language": "python",
   "name": "python3"
  },
  "language_info": {
   "codemirror_mode": {
    "name": "ipython",
    "version": 3
   },
   "file_extension": ".py",
   "mimetype": "text/x-python",
   "name": "python",
   "nbconvert_exporter": "python",
   "pygments_lexer": "ipython3",
   "version": "3.8.5"
  }
 },
 "nbformat": 4,
 "nbformat_minor": 4
}
